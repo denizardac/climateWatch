{
 "cells": [
  {
   "cell_type": "code",
   "execution_count": 1,
   "id": "e0dc3377-c07e-4910-af79-8ab98ec26444",
   "metadata": {},
   "outputs": [],
   "source": [
    "from pyspark.sql import SparkSession\n",
    "\n",
    "spark = SparkSession.builder \\\n",
    "    .appName(\"ClimateWatch ETL\") \\\n",
    "    .getOrCreate()"
   ]
  },
  {
   "cell_type": "code",
   "execution_count": 2,
   "id": "5f145598-c8f9-42d9-94f9-23333b3b8f9d",
   "metadata": {},
   "outputs": [],
   "source": [
    "GDELT_PATH = \"/home/jovyan/work/data_storage/gdelt/*.csv\"\n",
    "CLIMATE_PATH = \"/home/jovyan/work/data_storage/climate/*.csv\""
   ]
  },
  {
   "cell_type": "code",
   "execution_count": 3,
   "id": "e95cf469-bf2f-4fe2-8e80-f4c48ec6ccfe",
   "metadata": {},
   "outputs": [],
   "source": [
    "gdelt_df = spark.read.option(\"header\", False).csv(\"/home/jovyan/work/data_storage/gdelt/*.csv\")\n",
    "climate_df = spark.read.option(\"header\", True).csv(\"/home/jovyan/work/data_storage/climate/*.csv\")"
   ]
  },
  {
   "cell_type": "code",
   "execution_count": 4,
   "id": "4bb4227e-8043-4455-80ae-0af8a1249510",
   "metadata": {},
   "outputs": [
    {
     "name": "stdout",
     "output_type": "stream",
     "text": [
      "+--------+--------------------+\n",
      "| SQLDATE|           SOURCEURL|\n",
      "+--------+--------------------+\n",
      "|       1|                  57|\n",
      "|20230508|https://www.euras...|\n",
      "|20230508|https://www.euras...|\n",
      "|20230508|https://www.livem...|\n",
      "|20230508|https://www.nsnew...|\n",
      "+--------+--------------------+\n",
      "only showing top 5 rows\n",
      "\n"
     ]
    }
   ],
   "source": [
    "gdelt_columns = [\n",
    "    \"GLOBALEVENTID\", \"SQLDATE\", \"MonthYear\", \"Year\", \"FractionDate\", \"Actor1Code\", \"Actor1Name\", \"Actor1CountryCode\",\n",
    "    \"Actor1KnownGroupCode\", \"Actor1EthnicCode\", \"Actor1Religion1Code\", \"Actor1Religion2Code\", \"Actor1Type1Code\",\n",
    "    \"Actor1Type2Code\", \"Actor1Type3Code\", \"Actor2Code\", \"Actor2Name\", \"Actor2CountryCode\", \"Actor2KnownGroupCode\",\n",
    "    \"Actor2EthnicCode\", \"Actor2Religion1Code\", \"Actor2Religion2Code\", \"Actor2Type1Code\", \"Actor2Type2Code\",\n",
    "    \"Actor2Type3Code\", \"IsRootEvent\", \"EventCode\", \"EventBaseCode\", \"EventRootCode\", \"QuadClass\", \"GoldsteinScale\",\n",
    "    \"NumMentions\", \"NumSources\", \"NumArticles\", \"AvgTone\", \"Actor1Geo_Type\", \"Actor1Geo_FullName\", \"Actor1Geo_CountryCode\",\n",
    "    \"Actor1Geo_ADM1Code\", \"Actor1Geo_Lat\", \"Actor1Geo_Long\", \"Actor1Geo_FeatureID\", \"Actor2Geo_Type\", \"Actor2Geo_FullName\",\n",
    "    \"Actor2Geo_CountryCode\", \"Actor2Geo_ADM1Code\", \"Actor2Geo_Lat\", \"Actor2Geo_Long\", \"Actor2Geo_FeatureID\", \"ActionGeo_Type\",\n",
    "    \"ActionGeo_FullName\", \"ActionGeo_CountryCode\", \"ActionGeo_ADM1Code\", \"ActionGeo_Lat\", \"ActionGeo_Long\", \"ActionGeo_FeatureID\",\n",
    "    \"DATEADDED\", \"SOURCEURL\"\n",
    "]\n",
    "gdelt_df = gdelt_df.toDF(*gdelt_columns)\n",
    "gdelt_df.select(\"SQLDATE\", \"SOURCEURL\").show(5)"
   ]
  },
  {
   "cell_type": "code",
   "execution_count": 5,
   "id": "ca491b1d-86cc-4e67-ab10-ab320b36c58c",
   "metadata": {},
   "outputs": [],
   "source": [
    "from pyspark.sql.functions import col\n",
    "\n",
    "gdelt_df = gdelt_df.withColumn(\"year\", col(\"SQLDATE\").substr(1, 4))"
   ]
  },
  {
   "cell_type": "code",
   "execution_count": 6,
   "id": "5badbe75-fe3a-4c78-8e34-2e35e2d71866",
   "metadata": {},
   "outputs": [
    {
     "name": "stdout",
     "output_type": "stream",
     "text": [
      "Birleşik satır sayısı: 1536604\n",
      "+-------------+--------+---------+----+------------+----------+----------+-----------------+--------------------+----------------+-------------------+-------------------+---------------+---------------+---------------+----------+----------+-----------------+--------------------+----------------+-------------------+-------------------+---------------+---------------+---------------+-----------+---------+-------------+-------------+---------+--------------+-----------+----------+-----------+-----------------+--------------+--------------------+---------------------+------------------+-------------+--------------+-------------------+--------------+--------------------+---------------------+------------------+-------------+--------------+-------------------+--------------+--------------------+---------------------+------------------+-------------+--------------+-------------------+---------+--------------------+------------+------------+----+-----+\n",
      "|GLOBALEVENTID| SQLDATE|MonthYear|year|FractionDate|Actor1Code|Actor1Name|Actor1CountryCode|Actor1KnownGroupCode|Actor1EthnicCode|Actor1Religion1Code|Actor1Religion2Code|Actor1Type1Code|Actor1Type2Code|Actor1Type3Code|Actor2Code|Actor2Name|Actor2CountryCode|Actor2KnownGroupCode|Actor2EthnicCode|Actor2Religion1Code|Actor2Religion2Code|Actor2Type1Code|Actor2Type2Code|Actor2Type3Code|IsRootEvent|EventCode|EventBaseCode|EventRootCode|QuadClass|GoldsteinScale|NumMentions|NumSources|NumArticles|          AvgTone|Actor1Geo_Type|  Actor1Geo_FullName|Actor1Geo_CountryCode|Actor1Geo_ADM1Code|Actor1Geo_Lat|Actor1Geo_Long|Actor1Geo_FeatureID|Actor2Geo_Type|  Actor2Geo_FullName|Actor2Geo_CountryCode|Actor2Geo_ADM1Code|Actor2Geo_Lat|Actor2Geo_Long|Actor2Geo_FeatureID|ActionGeo_Type|  ActionGeo_FullName|ActionGeo_CountryCode|ActionGeo_ADM1Code|ActionGeo_Lat|ActionGeo_Long|ActionGeo_FeatureID|DATEADDED|           SOURCEURL|country_code|country_name|year|value|\n",
      "+-------------+--------+---------+----+------------+----------+----------+-----------------+--------------------+----------------+-------------------+-------------------+---------------+---------------+---------------+----------+----------+-----------------+--------------------+----------------+-------------------+-------------------+---------------+---------------+---------------+-----------+---------+-------------+-------------+---------+--------------+-----------+----------+-----------+-----------------+--------------+--------------------+---------------------+------------------+-------------+--------------+-------------------+--------------+--------------------+---------------------+------------------+-------------+--------------+-------------------+--------------+--------------------+---------------------+------------------+-------------+--------------+-------------------+---------+--------------------+------------+------------+----+-----+\n",
      "|            0|       1|        2|   1|           4|         5|         6|                7|                   8|               9|                 10|                 11|             12|             13|             14|        15|        16|               17|                  18|              19|                 20|                 21|             22|             23|             24|         25|       26|           27|           28|       29|            30|         31|        32|         33|               34|            35|                  36|                   37|                38|           39|            40|                 41|            42|                  43|                   44|                45|           46|            47|                 48|            49|                  50|                   51|                52|           53|            54|                 55|       56|                  57|        NULL|        NULL|NULL| NULL|\n",
      "|   1174162183|20230508|   202305|2023|   2023.3507| AFGINSTAL|   TALIBAN|              AFG|                 TAL|            NULL|               NULL|               NULL|            INS|           NULL|           NULL|       UAF|   FIGHTER|             NULL|                NULL|            NULL|               NULL|               NULL|            UAF|           NULL|           NULL|          0|       42|           42|            4|        1|           1.9|          4|         1|          4|-2.23741454319453|             4|Kabul, Kabol, Afg...|                   AF|              AF13|      34.5167|       69.1833|           -3378435|             4|Kabul, Kabol, Afg...|                   AF|              AF13|      34.5167|       69.1833|           -3378435|             4|Kabul, Kabol, Afg...|                   AF|              AF13|      34.5167|       69.1833|           -3378435| 20240507|https://www.euras...|        NULL|        NULL|NULL| NULL|\n",
      "|   1174162184|20230508|   202305|2023|   2023.3507| AFGINSTAL|   TALIBAN|              AFG|                 TAL|            NULL|               NULL|               NULL|            INS|           NULL|           NULL|       UAF|   FIGHTER|             NULL|                NULL|            NULL|               NULL|               NULL|            UAF|           NULL|           NULL|          0|       42|           42|            4|        1|           1.9|          6|         1|          6|-2.23741454319453|             4|Gaza, Israel (gen...|                   IS|              IS00|      31.4167|       34.3333|            -797156|             4|Gaza, Israel (gen...|                   IS|              IS00|      31.4167|       34.3333|            -797156|             4|Gaza, Israel (gen...|                   IS|              IS00|      31.4167|       34.3333|            -797156| 20240507|https://www.euras...|        NULL|        NULL|NULL| NULL|\n",
      "|   1174162185|20230508|   202305|2023|   2023.3507|       BUS|   COMPANY|             NULL|                NULL|            NULL|               NULL|               NULL|            BUS|           NULL|           NULL|       JUD|     JUDGE|             NULL|                NULL|            NULL|               NULL|               NULL|            JUD|           NULL|           NULL|          1|       51|           51|            5|        1|           3.4|         10|         2|         10|-5.86877861468025|             3|Short Hills, New ...|                   US|              USNJ|      40.7479|      -74.3254|             880581|             3|Short Hills, New ...|                   US|              USNJ|      40.7479|      -74.3254|             880581|             3|Short Hills, New ...|                   US|              USNJ|      40.7479|      -74.3254|             880581| 20240507|https://www.livem...|        NULL|        NULL|NULL| NULL|\n",
      "|   1174162186|20230508|   202305|2023|   2023.3507|       CAN|  CANADIAN|              CAN|                NULL|            NULL|               NULL|               NULL|           NULL|           NULL|           NULL|       LAB|  EMPLOYEE|             NULL|                NULL|            NULL|               NULL|               NULL|            LAB|           NULL|           NULL|          1|       14|           14|            1|        1|           0.0|         14|         7|         14|-0.57803468208093|             4|Toronto, Ontario,...|                   CA|              CA08|      43.6667|      -79.4167|            -574890|             4|Toronto, Ontario,...|                   CA|              CA08|      43.6667|      -79.4167|            -574890|             4|Toronto, Ontario,...|                   CA|              CA08|      43.6667|      -79.4167|            -574890| 20240507|https://www.nsnew...|        NULL|        NULL|NULL| NULL|\n",
      "+-------------+--------+---------+----+------------+----------+----------+-----------------+--------------------+----------------+-------------------+-------------------+---------------+---------------+---------------+----------+----------+-----------------+--------------------+----------------+-------------------+-------------------+---------------+---------------+---------------+-----------+---------+-------------+-------------+---------+--------------+-----------+----------+-----------+-----------------+--------------+--------------------+---------------------+------------------+-------------+--------------+-------------------+--------------+--------------------+---------------------+------------------+-------------+--------------+-------------------+--------------+--------------------+---------------------+------------------+-------------+--------------+-------------------+---------+--------------------+------------+------------+----+-----+\n",
      "only showing top 5 rows\n",
      "\n"
     ]
    }
   ],
   "source": [
    "joined = gdelt_df.join(climate_df, gdelt_df.year == climate_df.year, how=\"left\")\n",
    "print(\"Birleşik satır sayısı:\", joined.count())\n",
    "joined.show(5)"
   ]
  },
  {
   "cell_type": "code",
   "execution_count": null,
   "id": "ee7683ca-4789-4903-b0b4-6dd25b4e8d30",
   "metadata": {},
   "outputs": [],
   "source": []
  }
 ],
 "metadata": {
  "kernelspec": {
   "display_name": "Python 3 (ipykernel)",
   "language": "python",
   "name": "python3"
  },
  "language_info": {
   "codemirror_mode": {
    "name": "ipython",
    "version": 3
   },
   "file_extension": ".py",
   "mimetype": "text/x-python",
   "name": "python",
   "nbconvert_exporter": "python",
   "pygments_lexer": "ipython3",
   "version": "3.11.6"
  }
 },
 "nbformat": 4,
 "nbformat_minor": 5
}
